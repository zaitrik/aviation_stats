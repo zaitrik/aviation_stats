{
 "metadata": {
  "language_info": {
   "codemirror_mode": {
    "name": "ipython",
    "version": 3
   },
   "file_extension": ".py",
   "mimetype": "text/x-python",
   "name": "python",
   "nbconvert_exporter": "python",
   "pygments_lexer": "ipython3",
   "version": "3.7.9-final"
  },
  "orig_nbformat": 2,
  "kernelspec": {
   "name": "python379jvsc74a57bd070c0a70628a572152ee01a4fb7aca21e137aa17c6dd60df66aa372f385052d71",
   "display_name": "Python 3.7.9 64-bit"
  },
  "metadata": {
   "interpreter": {
    "hash": "70c0a70628a572152ee01a4fb7aca21e137aa17c6dd60df66aa372f385052d71"
   }
  }
 },
 "nbformat": 4,
 "nbformat_minor": 2,
 "cells": [
  {
   "cell_type": "code",
   "execution_count": 1,
   "metadata": {},
   "outputs": [],
   "source": [
    "import opendatasets as od\n",
    "import pandas as pd\n"
   ]
  },
  {
   "source": [
    "## 1st step is to **download** the data set from kaggle"
   ],
   "cell_type": "markdown",
   "metadata": {}
  },
  {
   "cell_type": "code",
   "execution_count": 3,
   "metadata": {},
   "outputs": [
    {
     "output_type": "stream",
     "name": "stdout",
     "text": [
      "Please provide your Kaggle credentials to download this dataset. Learn more: http://bit.ly/kaggle-creds\n",
      "  0%|          | 0.00/4.04M [00:00<?, ?B/s]Downloading aviation-accident-database-synopses.zip to .\\data\\aviation-accident-database-synopses\n",
      "100%|██████████| 4.04M/4.04M [00:01<00:00, 3.40MB/s]\n",
      "\n"
     ]
    }
   ],
   "source": [
    "ds_url =  'https://www.kaggle.com/khsamaha/aviation-accident-database-synopses'\n",
    "od.download_kaggle_dataset(ds_url,'.\\data')\n",
    "\n",
    "ds_filepath = '.\\\\data\\\\aviation-accident-database-synopses\\\\AviationData.csv'\n",
    "states_filepath = '.\\\\data\\\\aviation-accident-database-synopses\\\\USState_Codes.csv'\n",
    "\n",
    "aviation_ds = pd.read_csv(ds_filepath, encoding='ISO-8859-1')\n",
    "states_ds = pd.read_csv(states_filepath, encoding='ISO-8859-1')\n"
   ]
  },
  {
   "source": [
    "## 2nd step is to explore the datasets"
   ],
   "cell_type": "markdown",
   "metadata": {}
  },
  {
   "cell_type": "code",
   "execution_count": 4,
   "metadata": {},
   "outputs": [
    {
     "output_type": "execute_result",
     "data": {
      "text/plain": [
       "Index(['Event.Id', 'Investigation.Type', 'Accident.Number', 'Event.Date',\n",
       "       'LOCATION', 'Country', 'Latitude', 'Longitude', 'Airport.Code',\n",
       "       'Airport.Name', 'Injury.Severity', 'Aircraft.damage',\n",
       "       'Aircraft.Category', 'Registration.Number', 'Make', 'Model',\n",
       "       'Amateur.Built', 'Number.of.Engines', 'Engine.Type', 'FAR.Description',\n",
       "       'Schedule', 'Purpose.of.flight', 'Air.carrier', 'Total.Fatal.Injuries',\n",
       "       'Total.Serious.Injuries', 'Total.Minor.Injuries', 'Total.Uninjured',\n",
       "       'Weather.Condition', 'Broad.phase.of.flight', 'Report.Status',\n",
       "       'Publication.Date'],\n",
       "      dtype='object')"
      ]
     },
     "metadata": {},
     "execution_count": 4
    }
   ],
   "source": [
    "aviation_ds.columns"
   ]
  },
  {
   "cell_type": "code",
   "execution_count": 5,
   "metadata": {},
   "outputs": [
    {
     "output_type": "stream",
     "name": "stdout",
     "text": [
      "<class 'pandas.core.frame.DataFrame'>\nRangeIndex: 85976 entries, 0 to 85975\nData columns (total 31 columns):\n #   Column                  Non-Null Count  Dtype  \n---  ------                  --------------  -----  \n 0   Event.Id                85976 non-null  object \n 1   Investigation.Type      85963 non-null  object \n 2   Accident.Number         85976 non-null  object \n 3   Event.Date              85976 non-null  object \n 4   LOCATION                85898 non-null  object \n 5   Country                 85469 non-null  object \n 6   Latitude                31587 non-null  float64\n 7   Longitude               31578 non-null  float64\n 8   Airport.Code            48612 non-null  object \n 9   Airport.Name            51298 non-null  object \n 10  Injury.Severity         85842 non-null  object \n 11  Aircraft.damage         83047 non-null  object \n 12  Aircraft.Category       29226 non-null  object \n 13  Registration.Number     81756 non-null  object \n 14  Make                    85908 non-null  object \n 15  Model                   85877 non-null  object \n 16  Amateur.Built           85296 non-null  object \n 17  Number.of.Engines       80399 non-null  float64\n 18  Engine.Type             80872 non-null  object \n 19  FAR.Description         28929 non-null  object \n 20  Schedule                12179 non-null  object \n 21  Purpose.of.flight       80584 non-null  object \n 22  Air.carrier             4591 non-null   object \n 23  Total.Fatal.Injuries    58158 non-null  float64\n 24  Total.Serious.Injuries  55466 non-null  float64\n 25  Total.Minor.Injuries    56695 non-null  float64\n 26  Total.Uninjured         71092 non-null  float64\n 27  Weather.Condition       82304 non-null  object \n 28  Broad.phase.of.flight   78382 non-null  object \n 29  Report.Status           84983 non-null  object \n 30  Publication.Date        70326 non-null  object \ndtypes: float64(7), object(24)\nmemory usage: 20.3+ MB\n"
     ]
    }
   ],
   "source": [
    "aviation_ds.info()"
   ]
  },
  {
   "cell_type": "code",
   "execution_count": 6,
   "metadata": {},
   "outputs": [
    {
     "output_type": "execute_result",
     "data": {
      "text/plain": [
       "array(['Accident', 'Incident', nan], dtype=object)"
      ]
     },
     "metadata": {},
     "execution_count": 6
    }
   ],
   "source": [
    "aviation_ds['Investigation.Type'].unique()"
   ]
  },
  {
   "cell_type": "code",
   "execution_count": 7,
   "metadata": {},
   "outputs": [],
   "source": [
    "aviation_ds['Event.Date'] = pd.to_datetime(aviation_ds['Event.Date'])"
   ]
  },
  {
   "cell_type": "code",
   "execution_count": 20,
   "metadata": {},
   "outputs": [
    {
     "output_type": "execute_result",
     "data": {
      "text/plain": [
       "array(['WI', 'CB', 'AK', 'FL', 'WY', 'MO', 'VA', 'AZ', 'UT', 'SC', 'CA',\n",
       "       'ID', 'MI', 'MA', 'LA', 'CO', 'TN', 'IA', 'WA', 'TX', 'MT', 'NC',\n",
       "       'OR', 'GA', 'NV', 'AL', 'NY', 'OK', 'AR', 'NH', 'MN', 'PA', 'MS',\n",
       "       'IL', 'NE', 'ME', 'SD', 'IN', 'KS', 'DE', 'NJ', 'KY', 'OH', 'ND',\n",
       "       'HI', 'NM', 'MD', 'CT', 'RI', nan, 'VT', 'PR', 'O,', 'an', 'WV',\n",
       "       'UN', 'GM', 'VI', 'MP', 'AO', 'PO', 'GU', 'MH', 'FN', 'DC', 'ON'],\n",
       "      dtype=object)"
      ]
     },
     "metadata": {},
     "execution_count": 20
    }
   ],
   "source": [
    "\n",
    "def get_state(text):\n",
    "    return str(text)[-2:]\n",
    "\n",
    "aviation_ds['Event.State'] = aviation_ds[aviation_ds['Country']=='United States']['LOCATION'].apply(get_state)\n",
    "aviation_ds['Event.State'].unique() "
   ]
  },
  {
   "cell_type": "code",
   "execution_count": 21,
   "metadata": {},
   "outputs": [
    {
     "output_type": "execute_result",
     "data": {
      "text/plain": [
       "count             85469\n",
       "unique              185\n",
       "top       United States\n",
       "freq              80132\n",
       "Name: Country, dtype: object"
      ]
     },
     "metadata": {},
     "execution_count": 21
    }
   ],
   "source": [
    "aviation_ds['Country'].describe()"
   ]
  },
  {
   "cell_type": "code",
   "execution_count": 29,
   "metadata": {},
   "outputs": [
    {
     "output_type": "execute_result",
     "data": {
      "text/plain": [
       "array(['Fatal', 'Minor', 'Non-Fatal', 'Siruose', nan, 'Unavailable',\n",
       "       'Incident', 'Fatal(1)', 'Fatal(2)', 'Fatal(8)', 'Fatal(5)',\n",
       "       'Fatal(3)', 'Fatal(4)', 'Fatal(9)', 'Fatal(176)', 'Fatal(7)',\n",
       "       'Fatal(29)', 'Fatal(6)', 'Fatal(10)', 'Fatal(11)', 'Fatal(14)',\n",
       "       'Fatal(41)', 'Fatal(157)', 'Fatal(188)', 'Fatal(112)', 'Fatal(71)',\n",
       "       'Fatal(12)', 'Fatal(39)', 'Fatal(16)', 'Fatal(66)', 'Fatal(62)',\n",
       "       'Fatal(23)', 'Fatal(224)', 'Fatal(150)', 'Fatal(43)', 'Fatal(162)',\n",
       "       'Fatal(58)', 'Fatal(295)', 'Fatal(239)', 'Fatal(33)', 'Fatal(50)',\n",
       "       'Fatal(21)', 'Fatal(19)', 'Fatal(153)', 'Fatal(127)', 'Fatal(28)',\n",
       "       'Fatal(77)', 'Fatal(42)', 'Fatal(158)', 'Fatal(103)', 'Fatal(89)',\n",
       "       'Fatal(90)', 'Fatal(152)', 'Fatal(228)', 'Fatal(17)', 'Fatal(13)',\n",
       "       'Fatal(24)', 'Fatal(88)', 'Fatal(65)', 'Fatal(154)', 'Fatal(30)',\n",
       "       'Fatal(20)', 'Fatal(40)', 'Fatal(57)', 'Fatal(199)', 'Fatal(114)',\n",
       "       'Fatal(102)', 'Fatal(96)', 'Fatal(49)', 'Fatal(124)', 'Fatal(113)',\n",
       "       'Fatal(107)', 'Fatal(117)', 'Fatal(145)', 'Fatal(45)',\n",
       "       'Fatal(160)', 'Fatal(121)', 'Fatal(15)', 'Fatal(104)', 'Fatal(25)',\n",
       "       'Fatal(55)', 'Fatal(46)', 'Fatal(141)', 'Fatal(115)', 'Fatal(75)',\n",
       "       'Fatal(206)', 'Fatal(138)', 'Fatal(92)', 'Fatal(26)', 'Fatal(265)',\n",
       "       'Fatal(118)', 'Fatal(44)', 'Fatal(64)', 'Fatal(18)', 'Fatal(83)',\n",
       "       'Fatal(143)', 'Fatal(60)', 'Fatal(131)', 'Fatal(169)',\n",
       "       'Fatal(217)', 'Fatal(80)', 'Fatal(229)', 'Fatal(87)', 'Fatal(52)',\n",
       "       'Fatal(97)', 'Fatal(35)', 'Fatal(125)', 'Fatal(349)', 'Fatal(34)',\n",
       "       'Fatal(70)', 'Fatal(230)', 'Fatal(110)', 'Fatal(123)',\n",
       "       'Fatal(189)', 'Fatal(72)', 'Fatal(54)', 'Fatal(68)', 'Fatal(132)',\n",
       "       'Fatal(37)', 'Fatal(56)', 'Fatal(47)', 'Fatal(27)', 'Fatal(73)',\n",
       "       'Fatal(111)', 'Fatal(174)', 'Fatal(144)', 'Fatal(270)',\n",
       "       'Fatal(156)', 'Fatal(82)', 'Fatal(256)', 'Fatal(31)', 'Fatal(135)',\n",
       "       'Fatal(78)'], dtype=object)"
      ]
     },
     "metadata": {},
     "execution_count": 29
    }
   ],
   "source": [
    "aviation_ds['Injury.Severity'].unique()"
   ]
  },
  {
   "cell_type": "code",
   "execution_count": 32,
   "metadata": {},
   "outputs": [
    {
     "output_type": "execute_result",
     "data": {
      "text/plain": [
       "array(['Vtwin', '206', 'M-6-235', ..., '23-250', '305 (L-19)',\n",
       "       'WCS-222 (BELL 47G)'], dtype=object)"
      ]
     },
     "metadata": {},
     "execution_count": 32
    }
   ],
   "source": [
    "aviation_ds['Model'].unique()"
   ]
  },
  {
   "cell_type": "code",
   "execution_count": null,
   "metadata": {},
   "outputs": [],
   "source": []
  }
 ]
}