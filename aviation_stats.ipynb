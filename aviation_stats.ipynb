{
 "metadata": {
  "language_info": {
   "codemirror_mode": {
    "name": "ipython",
    "version": 3
   },
   "file_extension": ".py",
   "mimetype": "text/x-python",
   "name": "python",
   "nbconvert_exporter": "python",
   "pygments_lexer": "ipython3",
   "version": "3.7.9-final"
  },
  "orig_nbformat": 2,
  "kernelspec": {
   "name": "python37964bitb8a41e16f4264105a82c129666190a22",
   "display_name": "Python 3.7.9 64-bit"
  },
  "metadata": {
   "interpreter": {
    "hash": "684b1123683431d89d3bfe9a89cc763215f4b8cd94b4aba1fb40ad45ff7c8b41"
   }
  }
 },
 "nbformat": 4,
 "nbformat_minor": 2,
 "cells": [
  {
   "cell_type": "code",
   "execution_count": 5,
   "metadata": {},
   "outputs": [],
   "source": [
    "import opendatasets as od\n",
    "import pandas as pd\n"
   ]
  },
  {
   "source": [
    "## 1st step is to **download** the data set from kaggle"
   ],
   "cell_type": "markdown",
   "metadata": {}
  },
  {
   "cell_type": "code",
   "execution_count": 2,
   "metadata": {},
   "outputs": [
    {
     "output_type": "stream",
     "name": "stdout",
     "text": [
      "Please provide your Kaggle credentials to download this dataset. Learn more: http://bit.ly/kaggle-creds\n",
      "  0%|          | 0.00/4.04M [00:00<?, ?B/s]Downloading aviation-accident-database-synopses.zip to .\\data\\aviation-accident-database-synopses\n",
      "100%|██████████| 4.04M/4.04M [00:01<00:00, 3.95MB/s]\n",
      "\n"
     ]
    }
   ],
   "source": [
    "ds_url =  'https://www.kaggle.com/khsamaha/aviation-accident-database-synopses'\n",
    "od.download_kaggle_dataset(ds_url,'.\\data')\n",
    "\n",
    "ds_filepath = '.\\\\data\\\\aviation-accident-database-synopses\\\\AviationData.csv'\n",
    "states_filepath = '.\\\\data\\\\aviation-accident-database-synopses\\\\USState_Codes.csv'\n",
    "\n",
    "aviation_ds = pd.read_csv(ds_filepath, encoding='ISO-8859-1')\n",
    "states_ds = pd.read_csv(states_filepath, encoding='ISO-8859-1')\n"
   ]
  },
  {
   "source": [
    "## 2nd step is to explore the datasets"
   ],
   "cell_type": "markdown",
   "metadata": {}
  },
  {
   "cell_type": "code",
   "execution_count": 3,
   "metadata": {},
   "outputs": [
    {
     "output_type": "execute_result",
     "data": {
      "text/plain": [
       "Index(['Event.Id', 'Investigation.Type', 'Accident.Number', 'Event.Date',\n",
       "       'LOCATION', 'Country', 'Latitude', 'Longitude', 'Airport.Code',\n",
       "       'Airport.Name', 'Injury.Severity', 'Aircraft.damage',\n",
       "       'Aircraft.Category', 'Registration.Number', 'Make', 'Model',\n",
       "       'Amateur.Built', 'Number.of.Engines', 'Engine.Type', 'FAR.Description',\n",
       "       'Schedule', 'Purpose.of.flight', 'Air.carrier', 'Total.Fatal.Injuries',\n",
       "       'Total.Serious.Injuries', 'Total.Minor.Injuries', 'Total.Uninjured',\n",
       "       'Weather.Condition', 'Broad.phase.of.flight', 'Report.Status',\n",
       "       'Publication.Date'],\n",
       "      dtype='object')"
      ]
     },
     "metadata": {},
     "execution_count": 3
    }
   ],
   "source": [
    "aviation_ds.columns"
   ]
  },
  {
   "cell_type": "code",
   "execution_count": 6,
   "metadata": {},
   "outputs": [
    {
     "output_type": "stream",
     "name": "stdout",
     "text": [
      "<class 'pandas.core.frame.DataFrame'>\nRangeIndex: 85976 entries, 0 to 85975\nData columns (total 31 columns):\n #   Column                  Non-Null Count  Dtype  \n---  ------                  --------------  -----  \n 0   Event.Id                85976 non-null  object \n 1   Investigation.Type      85963 non-null  object \n 2   Accident.Number         85976 non-null  object \n 3   Event.Date              85976 non-null  object \n 4   LOCATION                85898 non-null  object \n 5   Country                 85469 non-null  object \n 6   Latitude                31587 non-null  float64\n 7   Longitude               31578 non-null  float64\n 8   Airport.Code            48612 non-null  object \n 9   Airport.Name            51298 non-null  object \n 10  Injury.Severity         85842 non-null  object \n 11  Aircraft.damage         83047 non-null  object \n 12  Aircraft.Category       29226 non-null  object \n 13  Registration.Number     81756 non-null  object \n 14  Make                    85908 non-null  object \n 15  Model                   85877 non-null  object \n 16  Amateur.Built           85296 non-null  object \n 17  Number.of.Engines       80399 non-null  float64\n 18  Engine.Type             80872 non-null  object \n 19  FAR.Description         28929 non-null  object \n 20  Schedule                12179 non-null  object \n 21  Purpose.of.flight       80584 non-null  object \n 22  Air.carrier             4591 non-null   object \n 23  Total.Fatal.Injuries    58158 non-null  float64\n 24  Total.Serious.Injuries  55466 non-null  float64\n 25  Total.Minor.Injuries    56695 non-null  float64\n 26  Total.Uninjured         71092 non-null  float64\n 27  Weather.Condition       82304 non-null  object \n 28  Broad.phase.of.flight   78382 non-null  object \n 29  Report.Status           84983 non-null  object \n 30  Publication.Date        70326 non-null  object \ndtypes: float64(7), object(24)\nmemory usage: 20.3+ MB\n"
     ]
    }
   ],
   "source": [
    "aviation_ds.info()"
   ]
  },
  {
   "cell_type": "code",
   "execution_count": 9,
   "metadata": {},
   "outputs": [
    {
     "output_type": "execute_result",
     "data": {
      "text/plain": [
       "array(['Accident', 'Incident', nan], dtype=object)"
      ]
     },
     "metadata": {},
     "execution_count": 9
    }
   ],
   "source": [
    "aviation_ds['Investigation.Type'].unique()"
   ]
  },
  {
   "cell_type": "code",
   "execution_count": 12,
   "metadata": {},
   "outputs": [],
   "source": [
    "aviation_ds['Event.Date'] = pd.to_datetime(aviation_ds['Event.Date'])"
   ]
  },
  {
   "cell_type": "code",
   "execution_count": 24,
   "metadata": {},
   "outputs": [
    {
     "output_type": "execute_result",
     "data": {
      "text/plain": [
       "0        WI\n",
       "1        CB\n",
       "2        AK\n",
       "3        WI\n",
       "4        FL\n",
       "         ..\n",
       "85971    OH\n",
       "85972    CA\n",
       "85973    VA\n",
       "85974    CA\n",
       "85975    ID\n",
       "Name: Event.State, Length: 85976, dtype: object"
      ]
     },
     "metadata": {},
     "execution_count": 24
    }
   ],
   "source": [
    "\n",
    "def get_state(text):\n",
    "    return str(text)[-2:]\n",
    "\n",
    "aviation_ds['Event.State'] = aviation_ds['LOCATION'].apply(get_state)\n",
    "aviation_ds['Event.State'] "
   ]
  },
  {
   "cell_type": "code",
   "execution_count": null,
   "metadata": {},
   "outputs": [],
   "source": []
  }
 ]
}